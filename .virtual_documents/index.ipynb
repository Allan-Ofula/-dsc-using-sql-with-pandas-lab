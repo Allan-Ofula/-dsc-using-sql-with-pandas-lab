


# Your code here

# Importing libraries
import pandas as pd
import numpy as np
import matplotlib.pyplot as plt

# Enabling inline plotting
get_ipython().run_line_magic("matplotlib", " inline  ")





df = pd.read_csv("titanic.csv")
df.head()





# Preview values first to ensure proper encoding when slicing

# Checking,unique values in Pclass column
df['Pclass'].unique()


# Counting occurrences of each unique value in the Pclass column
df['Pclass'].value_counts()


# Replacing '?' with the most frequent Pclass value 3
df['Pclass'] = df['Pclass'].replace('?', 3).astype(int)

# Dropping rows where Pclass is '?'
df = df[df['Pclass'] != '?']

# Converting Pclass to integer
df['Pclass'] = df['Pclass'].astype(int)

# Checking,unique values in Pclass column
df['Pclass'].unique()


# Slicing DataFrame to include only passengers in 2nd or 3rd class

no_first_class_df = df[df['Pclass'].isin([2, 3])]
no_first_class_df.head()





# # Slicing DataFrame to include passengers with fare between 50 and 100 inclusive

fares_50_to_100_df = df[(df['Fare'] >= 50) & (df['Fare'] <= 100)]





fares_50_to_100_df['Fare'].hist()
plt.xlabel('Fare', color='red')
plt.ylabel('Frequency', fontsize=12) 
plt.title('Distribution of Fares');
plt.show()





# Checking column names for reference
df.columns


# Checking column values to hardcode query below
df['Sex'].unique()


# # Slicing DataFrame to include only male survivors from Pclass 2 or 3
poor_male_survivors_df = df[(df['Sex'] == 'male') & (df['Survived'] == 1) & (df['Pclass'].isin([2, 3]))]

# Display 
poor_male_survivors_df.head()





# Creating DataFrame for women and children including males if 15 or under)
women_and_children_df = df[(df['Sex'] == 'female') | (df['Age'] <= 15)]

# Creating DataFrame for adult males age > 15
adult_males_df = df[(df['Sex'] == 'male') & (df['Age'] > 15)]





# Your code here

# Plotting histogram of survival rates for women and children
women_and_children_df['Survived'].hist()
plt.title('Survival Distribution - Women & Children')
plt.xlabel('Survived')
plt.ylabel('Frequency')
plt.show()


# Plotting histogram of survival rates for adult males
adult_males_df['Survived'].hist()
plt.title('Survival Distribution - Adult Males')
plt.xlabel('Survived')
plt.ylabel('Frequency')
plt.show()





# Extracting first-class passengers
first_class_df = df[df['Pclass'] == 1]

# Extracting 2nd and 3rd class passengers
second_third_class_df = second_third_class_df = df[df['Pclass'].isin([2, 3])]





# Your code here

# plotting first-class survival rate
first_class_df['Survived'].hist()
plt.title('Survival Distribution - First Class')
plt.xlabel('Survived')
plt.ylabel('Frequency')
plt.show()


# plotting 2nd, 3rd class survival rate
second_third_class_df['Survived'].hist()
plt.title('Survival Distribution - 2nd & 3rd Class')
plt.xlabel('Survived')
plt.ylabel('Frequency')
plt.show()








# Quering passengers with PassengerId >= 500
query_string = "PassengerId >= 500"
high_passenger_number_df = df.query(query_string)
high_passenger_number_df.head()





# Quering female passengers who are children

female_children_df = df.query("Sex == 'female' and Age <= 15")
female_children_df.head()





# Creating new column "Age_x_Fare" as the product of Age and Fare
df.eval("Age_x_Fare = Age * Fare", inplace=True)
df.head()








# !pip install pandasql





# Your code here

# Importing pandasql library
from pandasql import sqldf  





# Creating a lambda function 
pysqldf =  lambda q: sqldf(q, globals())





q =  """
SELECT Name 
FROM df 
LIMIT 10;
"""

passenger_names = pysqldf(q)
passenger_names





q2 = """
SELECT Name, Fare 
FROM df 
WHERE Sex = 'male' AND Survived = 1 
LIMIT 30;
"""

sql_surviving_males = pysqldf(q2)
sql_surviving_males





# Write your queries in these variables to keep your code well-formatted and readable
q3 = """
SELECT Pclass 
FROM df 
WHERE Sex = 'female' AND Survived = 1;
"""

q4 = """
SELECT Pclass 
FROM df 
WHERE Sex = 'female' AND Survived = 0;
"""

survived_females_by_pclass_df = pysqldf(q3)
died_females_by_pclass_df = pysqldf(q4)


# Create and label the histograms for each below!

# Plotting bar graph for surviving female passengers by class
survived_females_by_pclass_df['Pclass'].value_counts().plot(kind='barh', color='green')
plt.title('Survived Female Passengers by Class')
plt.xlabel('Count')
plt.ylabel('Pclass')
plt.show()


# Plotting bar graph for deceased female passengers by class
died_females_by_pclass_df['Pclass'].value_counts().plot(kind='barh', color='red')
plt.title('Deceased Female Passengers by Class')
plt.xlabel('Count')
plt.ylabel('Pclass')
plt.show()



